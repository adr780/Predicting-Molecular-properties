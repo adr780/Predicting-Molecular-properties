{
 "cells": [
  {
   "cell_type": "markdown",
   "metadata": {},
   "source": [
    "# Distance Features\n",
    "\n",
    "This notebook the calculations of distances features using the structural data from the train and test sets and the distances between each atom pair in the molecule."
   ]
  },
  {
   "cell_type": "code",
   "execution_count": null,
   "metadata": {},
   "outputs": [],
   "source": [
    "import pandas as pd"
   ]
  },
  {
   "cell_type": "code",
   "execution_count": 4,
   "metadata": {},
   "outputs": [],
   "source": [
    "distance_matrix = pd.read_csv('./data/champs-scalar-coupling/molecule_atoms_distance.csv')"
   ]
  },
  {
   "cell_type": "code",
   "execution_count": 3,
   "metadata": {},
   "outputs": [],
   "source": [
    "train_df = pd.read_csv('./data/champs-scalar-coupling/train.csv')\n",
    "test_df = pd.read_csv('./data/champs-scalar-coupling/test.csv')"
   ]
  },
  {
   "cell_type": "code",
   "execution_count": 5,
   "metadata": {},
   "outputs": [],
   "source": [
    "train_distance_df = train_df[['id', 'molecule_name', 'atom_index_0', 'atom_index_1']]\n",
    "test_distance_df = test_df[['id', 'molecule_name', 'atom_index_0', 'atom_index_1']]"
   ]
  },
  {
   "cell_type": "markdown",
   "metadata": {},
   "source": [
    "## Max and Mean Distance in Molecule"
   ]
  },
  {
   "cell_type": "code",
   "execution_count": 6,
   "metadata": {},
   "outputs": [],
   "source": [
    "max_distance = distance_matrix.groupby('molecule_name').dist.max().reset_index(name='max_distance_mol')\n",
    "mean_distance = distance_matrix.groupby('molecule_name').dist.mean().reset_index(name='mean_distance_mol')"
   ]
  },
  {
   "cell_type": "code",
   "execution_count": 7,
   "metadata": {},
   "outputs": [],
   "source": [
    "train_distance_df = pd.merge(train_distance_df, max_distance, on=['molecule_name'], how='left')\n",
    "train_distance_df = pd.merge(train_distance_df, mean_distance, on=['molecule_name'], how='left')\n",
    "\n",
    "test_distance_df = pd.merge(test_distance_df, max_distance, on=['molecule_name'], how='left')\n",
    "test_distance_df = pd.merge(test_distance_df, mean_distance, on=['molecule_name'], how='left')"
   ]
  },
  {
   "cell_type": "markdown",
   "metadata": {},
   "source": [
    "## Distance and Coulomb Distance Between Atoms"
   ]
  },
  {
   "cell_type": "code",
   "execution_count": 8,
   "metadata": {},
   "outputs": [],
   "source": [
    "train_distance_df = pd.merge(train_distance_df, distance_matrix, on=['molecule_name', 'atom_index_0', 'atom_index_1'], how='left')\n",
    "test_distance_df = pd.merge(test_distance_df, distance_matrix, on=['molecule_name', 'atom_index_0', 'atom_index_1'], how='left')"
   ]
  },
  {
   "cell_type": "code",
   "execution_count": 9,
   "metadata": {},
   "outputs": [],
   "source": [
    "train_distance_df['1/r2'] = 1/(train_distance_df.dist)**2\n",
    "test_distance_df['1/r2'] = 1/(test_distance_df.dist)**2"
   ]
  },
  {
   "cell_type": "code",
   "execution_count": 10,
   "metadata": {},
   "outputs": [],
   "source": [
    "train_distance_df.to_csv('./data/champs-scalar-coupling/distance_features_train.csv', index=False)\n",
    "test_distance_df.to_csv('./data/champs-scalar-coupling/distance_features_test.csv', index=False)"
   ]
  }
 ],
 "metadata": {
  "kernelspec": {
   "display_name": "Python [conda env:magnetic]",
   "language": "python",
   "name": "conda-env-magnetic-py"
  },
  "language_info": {
   "codemirror_mode": {
    "name": "ipython",
    "version": 3
   },
   "file_extension": ".py",
   "mimetype": "text/x-python",
   "name": "python",
   "nbconvert_exporter": "python",
   "pygments_lexer": "ipython3",
   "version": "3.7.3"
  }
 },
 "nbformat": 4,
 "nbformat_minor": 2
}
