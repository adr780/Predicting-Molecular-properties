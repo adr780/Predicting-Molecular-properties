{
 "cells": [
  {
   "cell_type": "markdown",
   "metadata": {},
   "source": [
    "# Baseline Model\n",
    "\n",
    "The objective of this model is to generate predictions using a model for each coupling type. The type of model used is a random forest with 10 trees without parameter optimization. The score achieved with this model is 0.375 on Kaggle."
   ]
  },
  {
   "cell_type": "code",
   "execution_count": 1,
   "metadata": {},
   "outputs": [],
   "source": [
    "import pandas as pd\n",
    "import numpy as np\n",
    "from magnetic_interactions import data_utils as du\n",
    "\n",
    "from sklearn.ensemble import RandomForestRegressor\n",
    "from sklearn.metrics import mean_absolute_error\n",
    "from sklearn.tree import DecisionTreeRegressor\n",
    "\n",
    "%load_ext autoreload\n",
    "%autoreload 2"
   ]
  },
  {
   "cell_type": "markdown",
   "metadata": {},
   "source": [
    "## Data Import and Feature Generation"
   ]
  },
  {
   "cell_type": "code",
   "execution_count": 2,
   "metadata": {},
   "outputs": [
    {
     "name": "stdout",
     "output_type": "stream",
     "text": [
      "Mem. usage decreased to 106.62 Mb (50.0% reduction)\n",
      "Mem. usage decreased to 51.74 Mb (52.1% reduction)\n",
      "Mem. usage decreased to 50.74 Mb (61.9% reduction)\n",
      "Mem. usage decreased to 27.04 Mb (61.9% reduction)\n",
      "Mem. usage decreased to  3.10 Mb (61.9% reduction)\n",
      "Mem. usage decreased to  8.53 Mb (61.9% reduction)\n",
      "Mem. usage decreased to 81.59 Mb (61.9% reduction)\n",
      "Mem. usage decreased to 42.24 Mb (61.9% reduction)\n",
      "Mem. usage decreased to 108.03 Mb (61.9% reduction)\n",
      "Mem. usage decreased to 11.90 Mb (61.9% reduction)\n",
      "Mem. usage decreased to 52.57 Mb (45.0% reduction)\n",
      "Mem. usage decreased to 51.74 Mb (52.1% reduction)\n"
     ]
    },
    {
     "name": "stderr",
     "output_type": "stream",
     "text": [
      "/home/carlosmiguelpatino/Lacuna/projects/MagneticInteractionsChallenge/magnetic_interactions/data_utils.py:141: SettingWithCopyWarning: \n",
      "A value is trying to be set on a copy of a slice from a DataFrame.\n",
      "Try using .loc[row_indexer,col_indexer] = value instead\n",
      "\n",
      "See the caveats in the documentation: http://pandas.pydata.org/pandas-docs/stable/indexing.html#indexing-view-versus-copy\n",
      "  df[col] = df[col].astype(np.int32)\n",
      "/home/carlosmiguelpatino/Lacuna/projects/MagneticInteractionsChallenge/magnetic_interactions/data_utils.py:146: SettingWithCopyWarning: \n",
      "A value is trying to be set on a copy of a slice from a DataFrame.\n",
      "Try using .loc[row_indexer,col_indexer] = value instead\n",
      "\n",
      "See the caveats in the documentation: http://pandas.pydata.org/pandas-docs/stable/indexing.html#indexing-view-versus-copy\n",
      "  df[col] = df[col].astype(np.float16)\n",
      "/home/carlosmiguelpatino/Lacuna/projects/MagneticInteractionsChallenge/magnetic_interactions/data_utils.py:137: SettingWithCopyWarning: \n",
      "A value is trying to be set on a copy of a slice from a DataFrame.\n",
      "Try using .loc[row_indexer,col_indexer] = value instead\n",
      "\n",
      "See the caveats in the documentation: http://pandas.pydata.org/pandas-docs/stable/indexing.html#indexing-view-versus-copy\n",
      "  df[col] = df[col].astype(np.int8)\n"
     ]
    },
    {
     "name": "stdout",
     "output_type": "stream",
     "text": [
      "Mem. usage decreased to 43.86 Mb (61.9% reduction)\n",
      "Mem. usage decreased to 27.22 Mb (61.9% reduction)\n",
      "Mem. usage decreased to 22.70 Mb (61.9% reduction)\n",
      "Mem. usage decreased to 58.08 Mb (61.9% reduction)\n",
      "Mem. usage decreased to 14.53 Mb (61.9% reduction)\n",
      "Mem. usage decreased to  1.73 Mb (61.9% reduction)\n",
      "Mem. usage decreased to  6.48 Mb (61.9% reduction)\n",
      "Mem. usage decreased to  4.61 Mb (61.9% reduction)\n"
     ]
    }
   ],
   "source": [
    "train_data_path = './data/champs-scalar-coupling/train.csv'\n",
    "test_data_path = './data/champs-scalar-coupling/test.csv'\n",
    "\n",
    "structures_data_path = './data/champs-scalar-coupling/structures.csv'\n",
    "\n",
    "angles_torsions_train_path = './data/champs-scalar-coupling/angles_torsions_train.csv'\n",
    "angles_torsions_test_path = './data/champs-scalar-coupling/angles_torsions_test.csv'\n",
    "bonds_train_path = './data/champs-scalar-coupling/bonds_train.csv'\n",
    "bonds_test_path = './data/champs-scalar-coupling/bonds_test.csv'\n",
    "\n",
    "distances_train_path = './data/champs-scalar-coupling/distance_features_train.csv'\n",
    "distances_test_path = './data/champs-scalar-coupling/distance_features_test.csv'\n",
    "\n",
    "train_dfs_dict, targets_dict = du.data_pipeline(train_data_path, structures_data_path, \n",
    "                                                angles_torsions_train_path, bonds_train_path, \n",
    "                                                distances_train_path,\n",
    "                                                train_data=True)\n",
    "test_dfs_dict, _ = du.data_pipeline(test_data_path, structures_data_path, angles_torsions_test_path, \n",
    "                                    bonds_test_path, distances_test_path, train_data=False)"
   ]
  },
  {
   "cell_type": "code",
   "execution_count": null,
   "metadata": {},
   "outputs": [],
   "source": [
    "train_dfs_dict[]"
   ]
  },
  {
   "cell_type": "code",
   "execution_count": 5,
   "metadata": {},
   "outputs": [],
   "source": [
    "features_coupling_type = {\n",
    "    \n",
    "    '1JHC': ['x_0', 'y_0', 'z_0', 'x_1', 'y_1', 'z_1', 'n_atoms', 'n_C', 'n_F',\n",
    "            'n_H', 'n_N', 'n_O', 'type_1__C', 'type_1__H', 'type_1__N',\n",
    "            'n_bonds_mol', 'n_bonds_0', 'n_bonds_1', \n",
    "            'max_distance_mol' , 'mean_distance_mol', 'dist','1/r2'],\n",
    "    '2JHH': ['x_0', 'y_0', 'z_0', 'x_1', 'y_1', 'z_1', 'n_atoms', 'n_C', 'n_F',\n",
    "            'n_H', 'n_N', 'n_O', 'type_1__C', 'type_1__H', 'type_1__N', 'angles',\n",
    "            'n_bonds_mol', 'n_bonds_0', 'n_bonds_1',\n",
    "            'max_distance_mol' , 'mean_distance_mol', 'dist','1/r2'],\n",
    "    '1JHN': ['x_0', 'y_0', 'z_0', 'x_1', 'y_1', 'z_1', 'n_atoms', 'n_C', 'n_F',\n",
    "            'n_H', 'n_N', 'n_O', 'type_1__C', 'type_1__H', 'type_1__N',\n",
    "            'n_bonds_mol', 'n_bonds_0', 'n_bonds_1',\n",
    "            'max_distance_mol' , 'mean_distance_mol', 'dist','1/r2'],\n",
    "    '2JHN': ['x_0', 'y_0', 'z_0', 'x_1', 'y_1', 'z_1', 'n_atoms', 'n_C', 'n_F',\n",
    "            'n_H', 'n_N', 'n_O', 'type_1__C', 'type_1__H', 'type_1__N', 'angles',\n",
    "            'n_bonds_mol', 'n_bonds_0', 'n_bonds_1',\n",
    "            'max_distance_mol' , 'mean_distance_mol', 'dist','1/r2'],\n",
    "    '2JHC': ['x_0', 'y_0', 'z_0', 'x_1', 'y_1', 'z_1', 'n_atoms', 'n_C', 'n_F',\n",
    "            'n_H', 'n_N', 'n_O', 'type_1__C', 'type_1__H', 'type_1__N', 'angles',\n",
    "            'n_bonds_mol', 'n_bonds_0', 'n_bonds_1',\n",
    "            'max_distance_mol' , 'mean_distance_mol', 'dist','1/r2'],\n",
    "    '3JHH': ['x_0', 'y_0', 'z_0', 'x_1', 'y_1', 'z_1', 'n_atoms', 'n_C', 'n_F',\n",
    "             'n_H', 'n_N', 'n_O', 'type_1__C', 'type_1__H', 'type_1__N',\n",
    "             'torsions', 'n_bonds_mol', 'n_bonds_0', 'n_bonds_1', 'karplus_1',\n",
    "             'karplus_2', 'max_distance_mol' , 'mean_distance_mol', 'dist','1/r2'], \n",
    "    '3JHC': ['x_0', 'y_0', 'z_0', 'x_1', 'y_1', 'z_1', 'n_atoms', 'n_C', 'n_F',\n",
    "             'n_H', 'n_N', 'n_O', 'type_1__C', 'type_1__H', 'type_1__N',\n",
    "             'torsions', 'n_bonds_mol', 'n_bonds_0', 'n_bonds_1', 'karplus_1',\n",
    "             'karplus_2', 'max_distance_mol' , 'mean_distance_mol', 'dist','1/r2'], \n",
    "    '3JHN': ['x_0', 'y_0', 'z_0', 'x_1', 'y_1', 'z_1', 'n_atoms', 'n_C', 'n_F',\n",
    "             'n_H', 'n_N', 'n_O', 'type_1__C', 'type_1__H', 'type_1__N',\n",
    "             'torsions', 'n_bonds_mol', 'n_bonds_0', 'n_bonds_1', 'karplus_1',\n",
    "             'karplus_2', 'max_distance_mol' , 'mean_distance_mol', 'dist','1/r2']\n",
    "    \n",
    "}"
   ]
  },
  {
   "cell_type": "code",
   "execution_count": 6,
   "metadata": {},
   "outputs": [
    {
     "name": "stdout",
     "output_type": "stream",
     "text": [
      "Fitting 380609 samples for 1JHC ...\n",
      "building tree 1 of 10building tree 2 of 10\n",
      "building tree 3 of 10\n",
      "\n"
     ]
    },
    {
     "name": "stderr",
     "output_type": "stream",
     "text": [
      "[Parallel(n_jobs=3)]: Using backend ThreadingBackend with 3 concurrent workers.\n"
     ]
    },
    {
     "name": "stdout",
     "output_type": "stream",
     "text": [
      "building tree 4 of 10\n",
      "building tree 5 of 10\n",
      "building tree 6 of 10\n",
      "building tree 7 of 10\n",
      "building tree 8 of 10\n",
      "building tree 9 of 10\n",
      "building tree 10 of 10\n"
     ]
    },
    {
     "name": "stderr",
     "output_type": "stream",
     "text": [
      "[Parallel(n_jobs=3)]: Done  10 out of  10 | elapsed:   54.9s finished\n",
      "[Parallel(n_jobs=3)]: Using backend ThreadingBackend with 3 concurrent workers.\n",
      "[Parallel(n_jobs=3)]: Done  10 out of  10 | elapsed:    2.2s finished\n",
      "[Parallel(n_jobs=3)]: Using backend ThreadingBackend with 3 concurrent workers.\n",
      "[Parallel(n_jobs=3)]: Done  10 out of  10 | elapsed:    1.1s finished\n",
      "[Parallel(n_jobs=3)]: Using backend ThreadingBackend with 3 concurrent workers.\n"
     ]
    },
    {
     "name": "stdout",
     "output_type": "stream",
     "text": [
      "Finished training! 1/8\n",
      "Train MAE: 1.3248187153235902 \n",
      "\n",
      "Fitting 203126 samples for 2JHH ...\n",
      "building tree 1 of 10\n",
      "building tree 2 of 10\n",
      "building tree 3 of 10\n",
      "building tree 4 of 10\n",
      "building tree 5 of 10\n",
      "building tree 6 of 10\n",
      "building tree 7 of 10\n",
      "building tree 8 of 10\n",
      "building tree 9 of 10\n",
      "building tree 10 of 10\n"
     ]
    },
    {
     "name": "stderr",
     "output_type": "stream",
     "text": [
      "[Parallel(n_jobs=3)]: Done  10 out of  10 | elapsed:   29.9s finished\n",
      "[Parallel(n_jobs=3)]: Using backend ThreadingBackend with 3 concurrent workers.\n",
      "[Parallel(n_jobs=3)]: Done  10 out of  10 | elapsed:    1.0s finished\n",
      "[Parallel(n_jobs=3)]: Using backend ThreadingBackend with 3 concurrent workers.\n",
      "[Parallel(n_jobs=3)]: Done  10 out of  10 | elapsed:    0.6s finished\n",
      "[Parallel(n_jobs=3)]: Using backend ThreadingBackend with 3 concurrent workers.\n"
     ]
    },
    {
     "name": "stdout",
     "output_type": "stream",
     "text": [
      "Finished training! 2/8\n",
      "Train MAE: 0.25943166451165894 \n",
      "\n",
      "Fitting 24195 samples for 1JHN ...\n",
      "building tree 1 of 10\n",
      "building tree 2 of 10\n",
      "building tree 3 of 10\n",
      "building tree 4 of 10\n",
      "building tree 5 of 10\n",
      "building tree 6 of 10\n",
      "building tree 7 of 10\n",
      "building tree 8 of 10\n",
      "building tree 9 of 10\n",
      "building tree 10 of 10\n"
     ]
    },
    {
     "name": "stderr",
     "output_type": "stream",
     "text": [
      "[Parallel(n_jobs=3)]: Done  10 out of  10 | elapsed:    2.3s finished\n",
      "[Parallel(n_jobs=3)]: Using backend ThreadingBackend with 3 concurrent workers.\n",
      "[Parallel(n_jobs=3)]: Done  10 out of  10 | elapsed:    0.1s finished\n",
      "[Parallel(n_jobs=3)]: Using backend ThreadingBackend with 3 concurrent workers.\n",
      "[Parallel(n_jobs=3)]: Done  10 out of  10 | elapsed:    0.1s finished\n",
      "[Parallel(n_jobs=3)]: Using backend ThreadingBackend with 3 concurrent workers.\n"
     ]
    },
    {
     "name": "stdout",
     "output_type": "stream",
     "text": [
      "Finished training! 3/8\n",
      "Train MAE: 0.7614390076217051 \n",
      "\n",
      "Fitting 64424 samples for 2JHN ...\n",
      "building tree 1 of 10building tree 2 of 10\n",
      "building tree 3 of 10\n",
      "\n",
      "building tree 4 of 10\n",
      "building tree 5 of 10\n",
      "building tree 6 of 10\n",
      "building tree 7 of 10\n",
      "building tree 8 of 10\n",
      "building tree 9 of 10\n",
      "building tree 10 of 10\n"
     ]
    },
    {
     "name": "stderr",
     "output_type": "stream",
     "text": [
      "[Parallel(n_jobs=3)]: Done  10 out of  10 | elapsed:    8.1s finished\n",
      "[Parallel(n_jobs=3)]: Using backend ThreadingBackend with 3 concurrent workers.\n",
      "[Parallel(n_jobs=3)]: Done  10 out of  10 | elapsed:    0.2s finished\n",
      "[Parallel(n_jobs=3)]: Using backend ThreadingBackend with 3 concurrent workers.\n",
      "[Parallel(n_jobs=3)]: Done  10 out of  10 | elapsed:    0.2s finished\n"
     ]
    },
    {
     "name": "stdout",
     "output_type": "stream",
     "text": [
      "Finished training! 4/8\n",
      "Train MAE: 0.3467616413349182 \n",
      "\n",
      "Fitting 613138 samples for 2JHC ...\n"
     ]
    },
    {
     "name": "stderr",
     "output_type": "stream",
     "text": [
      "[Parallel(n_jobs=3)]: Using backend ThreadingBackend with 3 concurrent workers.\n"
     ]
    },
    {
     "name": "stdout",
     "output_type": "stream",
     "text": [
      "building tree 1 of 10building tree 2 of 10\n",
      "building tree 3 of 10\n",
      "\n",
      "building tree 4 of 10\n",
      "building tree 5 of 10\n",
      "building tree 6 of 10\n",
      "building tree 7 of 10\n",
      "building tree 8 of 10\n",
      "building tree 9 of 10\n",
      "building tree 10 of 10\n"
     ]
    },
    {
     "name": "stderr",
     "output_type": "stream",
     "text": [
      "[Parallel(n_jobs=3)]: Done  10 out of  10 | elapsed:  1.8min finished\n",
      "[Parallel(n_jobs=3)]: Using backend ThreadingBackend with 3 concurrent workers.\n",
      "[Parallel(n_jobs=3)]: Done  10 out of  10 | elapsed:    3.7s finished\n",
      "[Parallel(n_jobs=3)]: Using backend ThreadingBackend with 3 concurrent workers.\n",
      "[Parallel(n_jobs=3)]: Done  10 out of  10 | elapsed:    2.0s finished\n"
     ]
    },
    {
     "name": "stdout",
     "output_type": "stream",
     "text": [
      "Finished training! 5/8\n",
      "Train MAE: 0.5549857209642499 \n",
      "\n",
      "Fitting 317435 samples for 3JHH ...\n"
     ]
    },
    {
     "name": "stderr",
     "output_type": "stream",
     "text": [
      "[Parallel(n_jobs=3)]: Using backend ThreadingBackend with 3 concurrent workers.\n"
     ]
    },
    {
     "name": "stdout",
     "output_type": "stream",
     "text": [
      "building tree 1 of 10\n",
      "building tree 2 of 10\n",
      "building tree 3 of 10\n",
      "building tree 4 of 10\n",
      "building tree 5 of 10\n",
      "building tree 6 of 10\n",
      "building tree 7 of 10\n",
      "building tree 8 of 10\n",
      "building tree 9 of 10\n",
      "building tree 10 of 10\n"
     ]
    },
    {
     "name": "stderr",
     "output_type": "stream",
     "text": [
      "[Parallel(n_jobs=3)]: Done  10 out of  10 | elapsed:  1.1min finished\n",
      "[Parallel(n_jobs=3)]: Using backend ThreadingBackend with 3 concurrent workers.\n",
      "[Parallel(n_jobs=3)]: Done  10 out of  10 | elapsed:    1.9s finished\n",
      "[Parallel(n_jobs=3)]: Using backend ThreadingBackend with 3 concurrent workers.\n",
      "[Parallel(n_jobs=3)]: Done  10 out of  10 | elapsed:    1.0s finished\n"
     ]
    },
    {
     "name": "stdout",
     "output_type": "stream",
     "text": [
      "Finished training! 6/8\n",
      "Train MAE: 0.24502269276998254 \n",
      "\n",
      "Fitting 811999 samples for 3JHC ...\n"
     ]
    },
    {
     "name": "stderr",
     "output_type": "stream",
     "text": [
      "[Parallel(n_jobs=3)]: Using backend ThreadingBackend with 3 concurrent workers.\n"
     ]
    },
    {
     "name": "stdout",
     "output_type": "stream",
     "text": [
      "building tree 1 of 10\n",
      "building tree 2 of 10building tree 3 of 10\n",
      "\n",
      "building tree 4 of 10\n",
      "building tree 5 of 10\n",
      "building tree 6 of 10\n",
      "building tree 7 of 10\n",
      "building tree 8 of 10\n",
      "building tree 9 of 10\n",
      "building tree 10 of 10\n"
     ]
    },
    {
     "name": "stderr",
     "output_type": "stream",
     "text": [
      "[Parallel(n_jobs=3)]: Done  10 out of  10 | elapsed:  3.2min finished\n",
      "[Parallel(n_jobs=3)]: Using backend ThreadingBackend with 3 concurrent workers.\n",
      "[Parallel(n_jobs=3)]: Done  10 out of  10 | elapsed:    5.7s finished\n",
      "[Parallel(n_jobs=3)]: Using backend ThreadingBackend with 3 concurrent workers.\n",
      "[Parallel(n_jobs=3)]: Done  10 out of  10 | elapsed:    3.2s finished\n",
      "[Parallel(n_jobs=3)]: Using backend ThreadingBackend with 3 concurrent workers.\n"
     ]
    },
    {
     "name": "stdout",
     "output_type": "stream",
     "text": [
      "Finished training! 7/8\n",
      "Train MAE: 0.3750469098237355 \n",
      "\n",
      "Fitting 90616 samples for 3JHN ...\n",
      "building tree 1 of 10building tree 2 of 10\n",
      "building tree 3 of 10\n",
      "\n",
      "building tree 4 of 10\n",
      "building tree 5 of 10\n",
      "building tree 6 of 10\n",
      "building tree 7 of 10\n",
      "building tree 8 of 10\n",
      "building tree 9 of 10\n",
      "building tree 10 of 10\n"
     ]
    },
    {
     "name": "stderr",
     "output_type": "stream",
     "text": [
      "[Parallel(n_jobs=3)]: Done  10 out of  10 | elapsed:   14.4s finished\n",
      "[Parallel(n_jobs=3)]: Using backend ThreadingBackend with 3 concurrent workers.\n",
      "[Parallel(n_jobs=3)]: Done  10 out of  10 | elapsed:    0.3s finished\n",
      "[Parallel(n_jobs=3)]: Using backend ThreadingBackend with 3 concurrent workers.\n"
     ]
    },
    {
     "name": "stdout",
     "output_type": "stream",
     "text": [
      "Finished training! 8/8\n",
      "Train MAE: 0.15457972848764542 \n",
      "\n"
     ]
    },
    {
     "name": "stderr",
     "output_type": "stream",
     "text": [
      "[Parallel(n_jobs=3)]: Done  10 out of  10 | elapsed:    0.2s finished\n"
     ]
    }
   ],
   "source": [
    "submission_df = pd.DataFrame()\n",
    "\n",
    "test_preds = []\n",
    "\n",
    "for i, key in enumerate(train_dfs_dict.keys()):\n",
    "    \n",
    "    train_df = train_dfs_dict[key]\n",
    "    test_df = test_dfs_dict[key]\n",
    "    y_train = targets_dict[key]\n",
    "    features = features_coupling_type[key]  \n",
    "    \n",
    "    test_pred_df = pd.DataFrame()\n",
    "    test_pred_df['id'] = test_df['id']\n",
    "    \n",
    "    X_train = train_df[features]\n",
    "    X_test = test_df[features]\n",
    "    \n",
    "    print('Fitting {0} samples for {1} ...'.format(len(test_pred_df), key))\n",
    "    \n",
    "    rf_reg = RandomForestRegressor(n_estimators=10, random_state=42, n_jobs=3, verbose=2)\n",
    "    rf_reg.fit(X_train, y_train)\n",
    "    y_hat_train = rf_reg.predict(X_train)\n",
    "    y_hat_test = rf_reg.predict(X_test)\n",
    "    \n",
    "    print('Finished training! {}/8'.format(i+1))\n",
    "    \n",
    "    test_pred_df['scalar_coupling_constant'] = y_hat_test\n",
    "    test_preds.append(y_hat_test)\n",
    "    submission_df = submission_df.append(test_pred_df)\n",
    "    \n",
    "    score = mean_absolute_error(y_train, y_hat_train)\n",
    "    \n",
    "    print('Train MAE:', score, '\\n')"
   ]
  },
  {
   "cell_type": "code",
   "execution_count": 7,
   "metadata": {},
   "outputs": [],
   "source": [
    "submission_df = submission_df.sort_values('id')\n",
    "submission_df.to_csv('./submissions/baseline_model_distance_features.csv', index=False)"
   ]
  },
  {
   "cell_type": "code",
   "execution_count": null,
   "metadata": {},
   "outputs": [],
   "source": []
  }
 ],
 "metadata": {
  "kernelspec": {
   "display_name": "Python [conda env:magnetic]",
   "language": "python",
   "name": "conda-env-magnetic-py"
  },
  "language_info": {
   "codemirror_mode": {
    "name": "ipython",
    "version": 3
   },
   "file_extension": ".py",
   "mimetype": "text/x-python",
   "name": "python",
   "nbconvert_exporter": "python",
   "pygments_lexer": "ipython3",
   "version": "3.7.3"
  }
 },
 "nbformat": 4,
 "nbformat_minor": 2
}
